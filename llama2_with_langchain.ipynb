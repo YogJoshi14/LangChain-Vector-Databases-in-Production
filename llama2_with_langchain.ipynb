{
  "nbformat": 4,
  "nbformat_minor": 0,
  "metadata": {
    "colab": {
      "provenance": [],
      "authorship_tag": "ABX9TyMrrhEfD1hQa0q/DDOSSzUL",
      "include_colab_link": true
    },
    "kernelspec": {
      "name": "python3",
      "display_name": "Python 3"
    },
    "language_info": {
      "name": "python"
    }
  },
  "cells": [
    {
      "cell_type": "markdown",
      "metadata": {
        "id": "view-in-github",
        "colab_type": "text"
      },
      "source": [
        "<a href=\"https://colab.research.google.com/github/YogJoshi14/LangChain-Vector-Databases-in-Production/blob/main/llama2_with_langchain.ipynb\" target=\"_parent\"><img src=\"https://colab.research.google.com/assets/colab-badge.svg\" alt=\"Open In Colab\"/></a>"
      ]
    },
    {
      "cell_type": "code",
      "execution_count": null,
      "metadata": {
        "id": "s567KyeQOTGJ"
      },
      "outputs": [],
      "source": [
        "!pip install -q transformers accelerate langchain\n",
        "!huggingface-cli login\n"
      ]
    },
    {
      "cell_type": "code",
      "source": [
        "from transformers import AutoTokenizer\n",
        "import transformers\n",
        "import torch\n",
        "import accelerate\n",
        "\n",
        "model = \"meta-llama/Llama-2-7b-chat-hf\"\n",
        "\n",
        "tokenizer=AutoTokenizer.from_pretrained(model)\n",
        "pipeline=transformers.pipeline(\n",
        "    \"text-generation\",\n",
        "    model=model,\n",
        "    tokenizer=tokenizer,\n",
        "    torch_dtype=torch.bfloat16,\n",
        "    trust_remote_code=True,\n",
        "    device_map=\"auto\",\n",
        "    max_length=1000,\n",
        "    do_sample=True,\n",
        "    top_k=10,\n",
        "    num_return_sequences=1,\n",
        "    eos_token_id=tokenizer.eos_token_id\n",
        "    )\n"
      ],
      "metadata": {
        "id": "ogp7nlStPEK-"
      },
      "execution_count": null,
      "outputs": []
    },
    {
      "cell_type": "code",
      "source": [
        "sequences = pipeline(\n",
        "    'Hi! I like cooking. Can you suggest some recipes?\\n')\n",
        "for seq in sequences:\n",
        "    print(f\"Result: {seq['generated_text']}\")\n"
      ],
      "metadata": {
        "id": "vSmYO6d4PHpn"
      },
      "execution_count": null,
      "outputs": []
    },
    {
      "cell_type": "code",
      "source": [
        "from langchain.llms import HuggingFacePipeline\n",
        "from transformers import AutoTokenizer\n",
        "from langchain.chains import ConversationChain\n",
        "import transformers\n",
        "import torch\n",
        "import warnings\n",
        "warnings.filterwarnings('ignore')\n"
      ],
      "metadata": {
        "id": "CVBWtSiLPKpg"
      },
      "execution_count": null,
      "outputs": []
    },
    {
      "cell_type": "code",
      "source": [
        "model=\"meta-llama/Llama-2-7b-chat-hf\"\n",
        "tokenizer=AutoTokenizer.from_pretrained(model)\n",
        "pipeline=transformers.pipeline(\n",
        "    \"text-generation\",\n",
        "    model=model,\n",
        "    tokenizer=tokenizer,\n",
        "    torch_dtype=torch.bfloat16,\n",
        "    trust_remote_code=True,\n",
        "    device_map=\"auto\",\n",
        "    max_length=1000,\n",
        "    do_sample=True,\n",
        "    top_k=10,\n",
        "    num_return_sequences=1,\n",
        "    eos_token_id=tokenizer.eos_token_id\n",
        "    )\n",
        "\n",
        "llm=HuggingFacePipeline(pipeline=pipeline, model_kwargs={'temperature':0.7})\n"
      ],
      "metadata": {
        "id": "GnIEnKAfPMuX"
      },
      "execution_count": null,
      "outputs": []
    },
    {
      "cell_type": "code",
      "source": [
        "<s>[INST] <<SYS>>\n",
        "{{ system_prompt }}\n",
        "<</SYS>>\n",
        "\n",
        "{{ user_message }} [/INST]\n"
      ],
      "metadata": {
        "id": "WV4dQOCPPSlT"
      },
      "execution_count": null,
      "outputs": []
    },
    {
      "cell_type": "code",
      "source": [
        "prompt_template = \"\"\"<s>[INST] <<SYS>>\n",
        "{{ You are a helpful AI Assistant}}<<SYS>>\n",
        "###\n",
        "\n",
        "Previous Conversation:\n",
        "'''\n",
        "{history}\n",
        "'''\n",
        "\n",
        "{{{input}}}[/INST]\n",
        "\n",
        "\"\"\"\n",
        "prompt = PromptTemplate(template=prompt_template, input_variables=['input', 'history'])\n"
      ],
      "metadata": {
        "id": "kjksosUePVFL"
      },
      "execution_count": null,
      "outputs": []
    },
    {
      "cell_type": "code",
      "source": [
        "chain = ConversationChain(llm=llm, prompt=prompt)\n"
      ],
      "metadata": {
        "id": "0jwYt3xhPWib"
      },
      "execution_count": null,
      "outputs": []
    },
    {
      "cell_type": "code",
      "source": [
        "chain.run(\"What is the capital Of India?\")\n"
      ],
      "metadata": {
        "id": "57n1gkAJPanL"
      },
      "execution_count": null,
      "outputs": []
    },
    {
      "cell_type": "code",
      "source": [
        "from langchain.memory import ConversationBufferWindowMemory\n",
        "\n",
        "memory = ConversationBufferWindowMemory(k=5)\n",
        "\n",
        "chain = ConversationChain(\n",
        "    llm=llm,\n",
        "    prompt=prompt,\n",
        "    memory=memory\n",
        ")\n"
      ],
      "metadata": {
        "id": "hQ0WPowiPfGL"
      },
      "execution_count": null,
      "outputs": []
    }
  ]
}